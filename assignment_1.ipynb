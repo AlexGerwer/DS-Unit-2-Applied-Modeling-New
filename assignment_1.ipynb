{
 "cells": [
  {
   "cell_type": "markdown",
   "metadata": {
    "colab_type": "text",
    "id": "nCc3XZEyG3XV"
   },
   "source": [
    "Lambda School Data Science\n",
    "\n",
    "*Unit 2, Sprint 3, Module 1*\n",
    "\n",
    "---\n",
    "\n",
    "\n",
    "# Define ML problems\n",
    "\n",
    "You will use your portfolio project dataset for all assignments this sprint.\n",
    "\n",
    "## Assignment\n",
    "\n",
    "Complete these tasks for your project, and document your decisions.\n",
    "\n",
    "- [ ] Choose your target. Which column in your tabular dataset will you predict?\n",
    "      Cigarettes_per_day, but binned as Cigarettes_per_day_bin\n",
    "- [ ] Choose which observations you will use to train, validate, and test your model. And which observations, if any, to exclude.\n",
    "      Observations used will consist of features selected from a set of 91 which are independent and do not lead to leakage.\n",
    "- [ ] Determine whether your problem is regression or classification.\n",
    "      The problem will be treated as a classification.\n",
    "- [ ] Choose your evaluation metric.\n",
    "      The metric that will be used is accuracy.\n",
    "- [ ] Begin to clean and explore your data.\n",
    "      The data has no NaN values.  There are no dependent features.  It has some features, such as smoker or non-smoker, which would cause leakage.\n",
    "- [ ] Begin to choose which features, if any, to exclude. Would some features \"leak\" information from the future?\n",
    "      Features will be chosen on the basis of drop-column importances.\n",
    " NOTE:  Several specific things will be examined including plotting a final validation curve as a log loss plot to confirm its flatness.
             If the validation curve is indeed flat, it suggests that other hyperparameters may have more influence on the default model than the n_estimators parameter does alone.
             Also, parameter exploration will be performed using a grid search technique."
   ]
  },
  {
   "cell_type": "code",
   "execution_count": null,
   "metadata": {},
   "outputs": [],
   "source": []
  }
